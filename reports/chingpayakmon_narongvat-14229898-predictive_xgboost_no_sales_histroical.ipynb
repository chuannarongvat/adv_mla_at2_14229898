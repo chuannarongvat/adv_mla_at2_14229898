{
 "cells": [
  {
   "cell_type": "code",
   "execution_count": 31,
   "metadata": {},
   "outputs": [
    {
     "name": "stdout",
     "output_type": "stream",
     "text": [
      "The autoreload extension is already loaded. To reload it, use:\n",
      "  %reload_ext autoreload\n"
     ]
    }
   ],
   "source": [
    "%load_ext autoreload\n",
    "%autoreload 2"
   ]
  },
  {
   "cell_type": "markdown",
   "metadata": {},
   "source": [
    "### Predictive: XGBoost with `No Sales Histroical Data`"
   ]
  },
  {
   "cell_type": "code",
   "execution_count": 32,
   "metadata": {},
   "outputs": [],
   "source": [
    "import pandas as pd\n",
    "import numpy as np"
   ]
  },
  {
   "cell_type": "code",
   "execution_count": 33,
   "metadata": {},
   "outputs": [],
   "source": [
    "import warnings\n",
    "warnings.simplefilter(action='ignore', category=FutureWarning)"
   ]
  },
  {
   "cell_type": "code",
   "execution_count": 34,
   "metadata": {},
   "outputs": [],
   "source": [
    "pd.set_option('display.max_columns', None)"
   ]
  },
  {
   "cell_type": "markdown",
   "metadata": {},
   "source": [
    "#### Load the experiment df `ca1_train` and `ca1_test`"
   ]
  },
  {
   "cell_type": "code",
   "execution_count": 5,
   "metadata": {},
   "outputs": [],
   "source": [
    "ca1_train = pd.read_parquet('../data/interim/predictive_ca1_train.to_parquet')\n",
    "ca1_test = pd.read_parquet('../data/interim/predictive_ca1_test.to_parquet')"
   ]
  },
  {
   "cell_type": "code",
   "execution_count": 6,
   "metadata": {},
   "outputs": [],
   "source": [
    "import sys\n",
    "sys.path.insert(0, '../src')"
   ]
  },
  {
   "cell_type": "markdown",
   "metadata": {},
   "source": [
    "#### Import the `preprocess` function to preprocess the data\n",
    "- Extract date-related features from the `date` column\n",
    "- Add `seasonality-feature`\n",
    "- `Label Encoding` the categorical features\n",
    "- Drop `id`, `date`, `wm_yr_wk`, `d`,  `event_name`, `event_type` features"
   ]
  },
  {
   "cell_type": "code",
   "execution_count": 35,
   "metadata": {},
   "outputs": [],
   "source": [
    "from features.data_prep import preprocess_no_sales_historical"
   ]
  },
  {
   "cell_type": "code",
   "execution_count": 36,
   "metadata": {},
   "outputs": [],
   "source": [
    "df_train, item_id_encoder, dept_id_encoder, store_id_encoder, state_id_encoder, cat_id_encoder = preprocess_no_sales_historical(ca1_train.copy())"
   ]
  },
  {
   "cell_type": "code",
   "execution_count": 37,
   "metadata": {},
   "outputs": [],
   "source": [
    "df_test = preprocess_no_sales_historical(ca1_test.copy())[0]"
   ]
  },
  {
   "cell_type": "code",
   "execution_count": 49,
   "metadata": {},
   "outputs": [
    {
     "data": {
      "text/html": [
       "<div>\n",
       "<style scoped>\n",
       "    .dataframe tbody tr th:only-of-type {\n",
       "        vertical-align: middle;\n",
       "    }\n",
       "\n",
       "    .dataframe tbody tr th {\n",
       "        vertical-align: top;\n",
       "    }\n",
       "\n",
       "    .dataframe thead th {\n",
       "        text-align: right;\n",
       "    }\n",
       "</style>\n",
       "<table border=\"1\" class=\"dataframe\">\n",
       "  <thead>\n",
       "    <tr style=\"text-align: right;\">\n",
       "      <th></th>\n",
       "      <th>item_id</th>\n",
       "      <th>dept_id</th>\n",
       "      <th>cat_id</th>\n",
       "      <th>store_id</th>\n",
       "      <th>state_id</th>\n",
       "      <th>sales</th>\n",
       "      <th>sell_price</th>\n",
       "      <th>total_sales</th>\n",
       "      <th>year</th>\n",
       "      <th>month</th>\n",
       "      <th>week_number</th>\n",
       "      <th>day_of_week</th>\n",
       "      <th>season_sin</th>\n",
       "      <th>season_cos</th>\n",
       "    </tr>\n",
       "  </thead>\n",
       "  <tbody>\n",
       "    <tr>\n",
       "      <th>47107050</th>\n",
       "      <td>1437</td>\n",
       "      <td>3</td>\n",
       "      <td>1</td>\n",
       "      <td>0</td>\n",
       "      <td>0</td>\n",
       "      <td>0</td>\n",
       "      <td>8.26</td>\n",
       "      <td>0.00</td>\n",
       "      <td>2015</td>\n",
       "      <td>4</td>\n",
       "      <td>222</td>\n",
       "      <td>6</td>\n",
       "      <td>0.866025</td>\n",
       "      <td>-0.500000</td>\n",
       "    </tr>\n",
       "    <tr>\n",
       "      <th>47107051</th>\n",
       "      <td>1438</td>\n",
       "      <td>3</td>\n",
       "      <td>1</td>\n",
       "      <td>0</td>\n",
       "      <td>0</td>\n",
       "      <td>0</td>\n",
       "      <td>3.97</td>\n",
       "      <td>0.00</td>\n",
       "      <td>2015</td>\n",
       "      <td>4</td>\n",
       "      <td>222</td>\n",
       "      <td>6</td>\n",
       "      <td>0.866025</td>\n",
       "      <td>-0.500000</td>\n",
       "    </tr>\n",
       "    <tr>\n",
       "      <th>47107052</th>\n",
       "      <td>1439</td>\n",
       "      <td>3</td>\n",
       "      <td>1</td>\n",
       "      <td>0</td>\n",
       "      <td>0</td>\n",
       "      <td>0</td>\n",
       "      <td>2.97</td>\n",
       "      <td>0.00</td>\n",
       "      <td>2015</td>\n",
       "      <td>4</td>\n",
       "      <td>222</td>\n",
       "      <td>6</td>\n",
       "      <td>0.866025</td>\n",
       "      <td>-0.500000</td>\n",
       "    </tr>\n",
       "    <tr>\n",
       "      <th>47107053</th>\n",
       "      <td>1440</td>\n",
       "      <td>3</td>\n",
       "      <td>1</td>\n",
       "      <td>0</td>\n",
       "      <td>0</td>\n",
       "      <td>4</td>\n",
       "      <td>4.64</td>\n",
       "      <td>18.56</td>\n",
       "      <td>2015</td>\n",
       "      <td>4</td>\n",
       "      <td>222</td>\n",
       "      <td>6</td>\n",
       "      <td>0.866025</td>\n",
       "      <td>-0.500000</td>\n",
       "    </tr>\n",
       "    <tr>\n",
       "      <th>47107054</th>\n",
       "      <td>1441</td>\n",
       "      <td>3</td>\n",
       "      <td>1</td>\n",
       "      <td>0</td>\n",
       "      <td>0</td>\n",
       "      <td>3</td>\n",
       "      <td>2.88</td>\n",
       "      <td>8.64</td>\n",
       "      <td>2015</td>\n",
       "      <td>4</td>\n",
       "      <td>222</td>\n",
       "      <td>6</td>\n",
       "      <td>0.866025</td>\n",
       "      <td>-0.500000</td>\n",
       "    </tr>\n",
       "    <tr>\n",
       "      <th>...</th>\n",
       "      <td>...</td>\n",
       "      <td>...</td>\n",
       "      <td>...</td>\n",
       "      <td>...</td>\n",
       "      <td>...</td>\n",
       "      <td>...</td>\n",
       "      <td>...</td>\n",
       "      <td>...</td>\n",
       "      <td>...</td>\n",
       "      <td>...</td>\n",
       "      <td>...</td>\n",
       "      <td>...</td>\n",
       "      <td>...</td>\n",
       "      <td>...</td>\n",
       "    </tr>\n",
       "    <tr>\n",
       "      <th>59275604</th>\n",
       "      <td>1432</td>\n",
       "      <td>2</td>\n",
       "      <td>0</td>\n",
       "      <td>0</td>\n",
       "      <td>0</td>\n",
       "      <td>2</td>\n",
       "      <td>2.98</td>\n",
       "      <td>5.96</td>\n",
       "      <td>2016</td>\n",
       "      <td>5</td>\n",
       "      <td>279</td>\n",
       "      <td>6</td>\n",
       "      <td>0.500000</td>\n",
       "      <td>-0.866025</td>\n",
       "    </tr>\n",
       "    <tr>\n",
       "      <th>59275605</th>\n",
       "      <td>1433</td>\n",
       "      <td>2</td>\n",
       "      <td>0</td>\n",
       "      <td>0</td>\n",
       "      <td>0</td>\n",
       "      <td>0</td>\n",
       "      <td>2.48</td>\n",
       "      <td>0.00</td>\n",
       "      <td>2016</td>\n",
       "      <td>5</td>\n",
       "      <td>279</td>\n",
       "      <td>6</td>\n",
       "      <td>0.500000</td>\n",
       "      <td>-0.866025</td>\n",
       "    </tr>\n",
       "    <tr>\n",
       "      <th>59275606</th>\n",
       "      <td>1434</td>\n",
       "      <td>2</td>\n",
       "      <td>0</td>\n",
       "      <td>0</td>\n",
       "      <td>0</td>\n",
       "      <td>1</td>\n",
       "      <td>3.98</td>\n",
       "      <td>3.98</td>\n",
       "      <td>2016</td>\n",
       "      <td>5</td>\n",
       "      <td>279</td>\n",
       "      <td>6</td>\n",
       "      <td>0.500000</td>\n",
       "      <td>-0.866025</td>\n",
       "    </tr>\n",
       "    <tr>\n",
       "      <th>59275607</th>\n",
       "      <td>1435</td>\n",
       "      <td>2</td>\n",
       "      <td>0</td>\n",
       "      <td>0</td>\n",
       "      <td>0</td>\n",
       "      <td>1</td>\n",
       "      <td>1.28</td>\n",
       "      <td>1.28</td>\n",
       "      <td>2016</td>\n",
       "      <td>5</td>\n",
       "      <td>279</td>\n",
       "      <td>6</td>\n",
       "      <td>0.500000</td>\n",
       "      <td>-0.866025</td>\n",
       "    </tr>\n",
       "    <tr>\n",
       "      <th>59275608</th>\n",
       "      <td>1436</td>\n",
       "      <td>2</td>\n",
       "      <td>0</td>\n",
       "      <td>0</td>\n",
       "      <td>0</td>\n",
       "      <td>5</td>\n",
       "      <td>1.00</td>\n",
       "      <td>5.00</td>\n",
       "      <td>2016</td>\n",
       "      <td>5</td>\n",
       "      <td>279</td>\n",
       "      <td>6</td>\n",
       "      <td>0.500000</td>\n",
       "      <td>-0.866025</td>\n",
       "    </tr>\n",
       "  </tbody>\n",
       "</table>\n",
       "<p>1219600 rows × 14 columns</p>\n",
       "</div>"
      ],
      "text/plain": [
       "          item_id  dept_id  cat_id  store_id  state_id  sales  sell_price  \\\n",
       "47107050     1437        3       1         0         0      0        8.26   \n",
       "47107051     1438        3       1         0         0      0        3.97   \n",
       "47107052     1439        3       1         0         0      0        2.97   \n",
       "47107053     1440        3       1         0         0      4        4.64   \n",
       "47107054     1441        3       1         0         0      3        2.88   \n",
       "...           ...      ...     ...       ...       ...    ...         ...   \n",
       "59275604     1432        2       0         0         0      2        2.98   \n",
       "59275605     1433        2       0         0         0      0        2.48   \n",
       "59275606     1434        2       0         0         0      1        3.98   \n",
       "59275607     1435        2       0         0         0      1        1.28   \n",
       "59275608     1436        2       0         0         0      5        1.00   \n",
       "\n",
       "          total_sales  year  month  week_number  day_of_week  season_sin  \\\n",
       "47107050         0.00  2015      4          222            6    0.866025   \n",
       "47107051         0.00  2015      4          222            6    0.866025   \n",
       "47107052         0.00  2015      4          222            6    0.866025   \n",
       "47107053        18.56  2015      4          222            6    0.866025   \n",
       "47107054         8.64  2015      4          222            6    0.866025   \n",
       "...               ...   ...    ...          ...          ...         ...   \n",
       "59275604         5.96  2016      5          279            6    0.500000   \n",
       "59275605         0.00  2016      5          279            6    0.500000   \n",
       "59275606         3.98  2016      5          279            6    0.500000   \n",
       "59275607         1.28  2016      5          279            6    0.500000   \n",
       "59275608         5.00  2016      5          279            6    0.500000   \n",
       "\n",
       "          season_cos  \n",
       "47107050   -0.500000  \n",
       "47107051   -0.500000  \n",
       "47107052   -0.500000  \n",
       "47107053   -0.500000  \n",
       "47107054   -0.500000  \n",
       "...              ...  \n",
       "59275604   -0.866025  \n",
       "59275605   -0.866025  \n",
       "59275606   -0.866025  \n",
       "59275607   -0.866025  \n",
       "59275608   -0.866025  \n",
       "\n",
       "[1219600 rows x 14 columns]"
      ]
     },
     "execution_count": 49,
     "metadata": {},
     "output_type": "execute_result"
    }
   ],
   "source": [
    "df_test"
   ]
  },
  {
   "cell_type": "markdown",
   "metadata": {},
   "source": [
    "#### Import `extract_features_target` function"
   ]
  },
  {
   "cell_type": "code",
   "execution_count": 39,
   "metadata": {},
   "outputs": [],
   "source": [
    "from features.data_prep import extract_features_target"
   ]
  },
  {
   "cell_type": "code",
   "execution_count": 40,
   "metadata": {},
   "outputs": [],
   "source": [
    "X_train, X_test, y_train, y_test = extract_features_target(df_train, df_test, 'total_sales')"
   ]
  },
  {
   "cell_type": "markdown",
   "metadata": {},
   "source": [
    "#### Imoprt the `XGBRegressor`, and use `RMSE` as a performance metrics."
   ]
  },
  {
   "cell_type": "code",
   "execution_count": 41,
   "metadata": {},
   "outputs": [],
   "source": [
    "from xgboost import XGBRegressor, plot_importance\n",
    "from sklearn.metrics import mean_squared_error"
   ]
  },
  {
   "cell_type": "markdown",
   "metadata": {},
   "source": [
    "#### Run the experiment of the `learning_rate` and `max_depth` features:\n",
    "- `learning_rate`: from range 0.16 - 0.32 with a step of 0.05.\n",
    "- `max_depth`: from range 3 to 10."
   ]
  },
  {
   "cell_type": "code",
   "execution_count": 16,
   "metadata": {},
   "outputs": [
    {
     "name": "stdout",
     "output_type": "stream",
     "text": [
      "Learning Rate: 0.16, Max Depth: 3,\n",
      "  RMSE Sales: 10.830657917071331\n",
      "\n",
      "\n",
      "Learning Rate: 0.16, Max Depth: 4,\n",
      "  RMSE Sales: 10.715895770074331\n",
      "\n",
      "\n",
      "Learning Rate: 0.16, Max Depth: 5,\n",
      "  RMSE Sales: 10.58116331547848\n",
      "\n",
      "\n",
      "Learning Rate: 0.16, Max Depth: 6,\n",
      "  RMSE Sales: 10.346175178869975\n",
      "\n",
      "\n",
      "Learning Rate: 0.16, Max Depth: 7,\n",
      "  RMSE Sales: 10.185253772531865\n",
      "\n",
      "\n",
      "Learning Rate: 0.16, Max Depth: 8,\n",
      "  RMSE Sales: 10.120966862343987\n",
      "\n",
      "\n",
      "Learning Rate: 0.16, Max Depth: 9,\n",
      "  RMSE Sales: 9.96521356239281\n",
      "\n",
      "\n",
      "Learning Rate: 0.21000000000000002, Max Depth: 3,\n",
      "  RMSE Sales: 10.801724668520162\n",
      "\n",
      "\n",
      "Learning Rate: 0.21000000000000002, Max Depth: 4,\n",
      "  RMSE Sales: 10.607785968771328\n",
      "\n",
      "\n",
      "Learning Rate: 0.21000000000000002, Max Depth: 5,\n",
      "  RMSE Sales: 10.390842886307327\n",
      "\n",
      "\n",
      "Learning Rate: 0.21000000000000002, Max Depth: 6,\n",
      "  RMSE Sales: 10.275734411280505\n",
      "\n",
      "\n",
      "Learning Rate: 0.21000000000000002, Max Depth: 7,\n",
      "  RMSE Sales: 10.091344713272274\n",
      "\n",
      "\n",
      "Learning Rate: 0.21000000000000002, Max Depth: 8,\n",
      "  RMSE Sales: 10.11032763228556\n",
      "\n",
      "\n",
      "Learning Rate: 0.21000000000000002, Max Depth: 9,\n",
      "  RMSE Sales: 9.996363724920302\n",
      "\n",
      "\n",
      "Learning Rate: 0.26, Max Depth: 3,\n",
      "  RMSE Sales: 10.730864348428723\n",
      "\n",
      "\n",
      "Learning Rate: 0.26, Max Depth: 4,\n",
      "  RMSE Sales: 10.560671400737354\n",
      "\n",
      "\n",
      "Learning Rate: 0.26, Max Depth: 5,\n",
      "  RMSE Sales: 10.375611493093084\n",
      "\n",
      "\n",
      "Learning Rate: 0.26, Max Depth: 6,\n",
      "  RMSE Sales: 10.29018602048354\n",
      "\n",
      "\n",
      "Learning Rate: 0.26, Max Depth: 7,\n",
      "  RMSE Sales: 10.123749172807267\n",
      "\n",
      "\n",
      "Learning Rate: 0.26, Max Depth: 8,\n",
      "  RMSE Sales: 9.99596993346526\n",
      "\n",
      "\n",
      "Learning Rate: 0.26, Max Depth: 9,\n",
      "  RMSE Sales: 9.775570980737616\n",
      "\n",
      "\n",
      "Learning Rate: 0.31000000000000005, Max Depth: 3,\n",
      "  RMSE Sales: 10.659919783378985\n",
      "\n",
      "\n",
      "Learning Rate: 0.31000000000000005, Max Depth: 4,\n",
      "  RMSE Sales: 10.446682983746138\n",
      "\n",
      "\n",
      "Learning Rate: 0.31000000000000005, Max Depth: 5,\n",
      "  RMSE Sales: 10.346662639596266\n",
      "\n",
      "\n",
      "Learning Rate: 0.31000000000000005, Max Depth: 6,\n",
      "  RMSE Sales: 10.159738877170003\n",
      "\n",
      "\n",
      "Learning Rate: 0.31000000000000005, Max Depth: 7,\n",
      "  RMSE Sales: 9.977862613065033\n",
      "\n",
      "\n",
      "Learning Rate: 0.31000000000000005, Max Depth: 8,\n",
      "  RMSE Sales: 9.957240571941368\n",
      "\n",
      "\n",
      "Learning Rate: 0.31000000000000005, Max Depth: 9,\n",
      "  RMSE Sales: 10.126247001425345\n",
      "\n",
      "\n"
     ]
    }
   ],
   "source": [
    "learning_rate = np.arange(0.16, 0.32, 0.05)\n",
    "max_depth = np.arange(3, 10)\n",
    "\n",
    "for lr in learning_rate:\n",
    "    for md in max_depth:\n",
    "        xgb_ht = XGBRegressor(objective = 'reg:tweedie', learning_rate = lr, max_depth = md, subsample = 0.7, \n",
    "                            colsample_bytree = 0.7, n_estimators = 100) \n",
    "        \n",
    "        xgb_ht.fit(X_train,y_train)\n",
    "        y_pred = xgb_ht.predict(X_test)\n",
    "        rmse = mean_squared_error(y_test,y_pred, squared=False)\n",
    "\n",
    "        print(f\"Learning Rate: {lr}, Max Depth: {md},\\n  RMSE Sales: {rmse}\")\n",
    "        print(\"\\n\")"
   ]
  },
  {
   "cell_type": "markdown",
   "metadata": {},
   "source": [
    "#### The best parameters for\n",
    "- `learning_rate`: 0.26\n",
    "- `max_depth`: 9"
   ]
  },
  {
   "cell_type": "code",
   "execution_count": 42,
   "metadata": {},
   "outputs": [
    {
     "name": "stderr",
     "output_type": "stream",
     "text": [
      "/Users/narongvatchingpayakmon/.pyenv/versions/3.9.13/lib/python3.9/site-packages/xgboost/sklearn.py:885: UserWarning: `eval_metric` in `fit` method is deprecated for better compatibility with scikit-learn, use `eval_metric` in constructor or`set_params` instead.\n",
      "  warnings.warn(\n"
     ]
    },
    {
     "name": "stdout",
     "output_type": "stream",
     "text": [
      "[0]\tvalidation_0-rmse:10.90800\n",
      "[10]\tvalidation_0-rmse:6.05378\n",
      "[20]\tvalidation_0-rmse:3.10279\n",
      "[30]\tvalidation_0-rmse:2.23766\n",
      "[40]\tvalidation_0-rmse:1.98806\n",
      "[50]\tvalidation_0-rmse:1.84774\n",
      "[60]\tvalidation_0-rmse:1.79436\n",
      "[70]\tvalidation_0-rmse:1.75273\n",
      "[80]\tvalidation_0-rmse:1.70763\n",
      "[90]\tvalidation_0-rmse:1.68407\n",
      "[99]\tvalidation_0-rmse:1.65718\n"
     ]
    },
    {
     "data": {
      "text/html": [
       "<style>#sk-container-id-5 {color: black;}#sk-container-id-5 pre{padding: 0;}#sk-container-id-5 div.sk-toggleable {background-color: white;}#sk-container-id-5 label.sk-toggleable__label {cursor: pointer;display: block;width: 100%;margin-bottom: 0;padding: 0.3em;box-sizing: border-box;text-align: center;}#sk-container-id-5 label.sk-toggleable__label-arrow:before {content: \"▸\";float: left;margin-right: 0.25em;color: #696969;}#sk-container-id-5 label.sk-toggleable__label-arrow:hover:before {color: black;}#sk-container-id-5 div.sk-estimator:hover label.sk-toggleable__label-arrow:before {color: black;}#sk-container-id-5 div.sk-toggleable__content {max-height: 0;max-width: 0;overflow: hidden;text-align: left;background-color: #f0f8ff;}#sk-container-id-5 div.sk-toggleable__content pre {margin: 0.2em;color: black;border-radius: 0.25em;background-color: #f0f8ff;}#sk-container-id-5 input.sk-toggleable__control:checked~div.sk-toggleable__content {max-height: 200px;max-width: 100%;overflow: auto;}#sk-container-id-5 input.sk-toggleable__control:checked~label.sk-toggleable__label-arrow:before {content: \"▾\";}#sk-container-id-5 div.sk-estimator input.sk-toggleable__control:checked~label.sk-toggleable__label {background-color: #d4ebff;}#sk-container-id-5 div.sk-label input.sk-toggleable__control:checked~label.sk-toggleable__label {background-color: #d4ebff;}#sk-container-id-5 input.sk-hidden--visually {border: 0;clip: rect(1px 1px 1px 1px);clip: rect(1px, 1px, 1px, 1px);height: 1px;margin: -1px;overflow: hidden;padding: 0;position: absolute;width: 1px;}#sk-container-id-5 div.sk-estimator {font-family: monospace;background-color: #f0f8ff;border: 1px dotted black;border-radius: 0.25em;box-sizing: border-box;margin-bottom: 0.5em;}#sk-container-id-5 div.sk-estimator:hover {background-color: #d4ebff;}#sk-container-id-5 div.sk-parallel-item::after {content: \"\";width: 100%;border-bottom: 1px solid gray;flex-grow: 1;}#sk-container-id-5 div.sk-label:hover label.sk-toggleable__label {background-color: #d4ebff;}#sk-container-id-5 div.sk-serial::before {content: \"\";position: absolute;border-left: 1px solid gray;box-sizing: border-box;top: 0;bottom: 0;left: 50%;z-index: 0;}#sk-container-id-5 div.sk-serial {display: flex;flex-direction: column;align-items: center;background-color: white;padding-right: 0.2em;padding-left: 0.2em;position: relative;}#sk-container-id-5 div.sk-item {position: relative;z-index: 1;}#sk-container-id-5 div.sk-parallel {display: flex;align-items: stretch;justify-content: center;background-color: white;position: relative;}#sk-container-id-5 div.sk-item::before, #sk-container-id-5 div.sk-parallel-item::before {content: \"\";position: absolute;border-left: 1px solid gray;box-sizing: border-box;top: 0;bottom: 0;left: 50%;z-index: -1;}#sk-container-id-5 div.sk-parallel-item {display: flex;flex-direction: column;z-index: 1;position: relative;background-color: white;}#sk-container-id-5 div.sk-parallel-item:first-child::after {align-self: flex-end;width: 50%;}#sk-container-id-5 div.sk-parallel-item:last-child::after {align-self: flex-start;width: 50%;}#sk-container-id-5 div.sk-parallel-item:only-child::after {width: 0;}#sk-container-id-5 div.sk-dashed-wrapped {border: 1px dashed gray;margin: 0 0.4em 0.5em 0.4em;box-sizing: border-box;padding-bottom: 0.4em;background-color: white;}#sk-container-id-5 div.sk-label label {font-family: monospace;font-weight: bold;display: inline-block;line-height: 1.2em;}#sk-container-id-5 div.sk-label-container {text-align: center;}#sk-container-id-5 div.sk-container {/* jupyter's `normalize.less` sets `[hidden] { display: none; }` but bootstrap.min.css set `[hidden] { display: none !important; }` so we also need the `!important` here to be able to override the default hidden behavior on the sphinx rendered scikit-learn.org. See: https://github.com/scikit-learn/scikit-learn/issues/21755 */display: inline-block !important;position: relative;}#sk-container-id-5 div.sk-text-repr-fallback {display: none;}</style><div id=\"sk-container-id-5\" class=\"sk-top-container\"><div class=\"sk-text-repr-fallback\"><pre>XGBRegressor(base_score=None, booster=None, callbacks=None,\n",
       "             colsample_bylevel=None, colsample_bynode=None,\n",
       "             colsample_bytree=0.7, device=None, early_stopping_rounds=None,\n",
       "             enable_categorical=False, eval_metric=None, feature_types=None,\n",
       "             gamma=None, grow_policy=None, importance_type=None,\n",
       "             interaction_constraints=None, learning_rate=0.26, max_bin=None,\n",
       "             max_cat_threshold=None, max_cat_to_onehot=None,\n",
       "             max_delta_step=None, max_depth=9, max_leaves=None,\n",
       "             min_child_weight=None, missing=nan, monotone_constraints=None,\n",
       "             multi_strategy=None, n_estimators=100, n_jobs=None,\n",
       "             num_parallel_tree=None, objective=&#x27;reg:tweedie&#x27;, ...)</pre><b>In a Jupyter environment, please rerun this cell to show the HTML representation or trust the notebook. <br />On GitHub, the HTML representation is unable to render, please try loading this page with nbviewer.org.</b></div><div class=\"sk-container\" hidden><div class=\"sk-item\"><div class=\"sk-estimator sk-toggleable\"><input class=\"sk-toggleable__control sk-hidden--visually\" id=\"sk-estimator-id-5\" type=\"checkbox\" checked><label for=\"sk-estimator-id-5\" class=\"sk-toggleable__label sk-toggleable__label-arrow\">XGBRegressor</label><div class=\"sk-toggleable__content\"><pre>XGBRegressor(base_score=None, booster=None, callbacks=None,\n",
       "             colsample_bylevel=None, colsample_bynode=None,\n",
       "             colsample_bytree=0.7, device=None, early_stopping_rounds=None,\n",
       "             enable_categorical=False, eval_metric=None, feature_types=None,\n",
       "             gamma=None, grow_policy=None, importance_type=None,\n",
       "             interaction_constraints=None, learning_rate=0.26, max_bin=None,\n",
       "             max_cat_threshold=None, max_cat_to_onehot=None,\n",
       "             max_delta_step=None, max_depth=9, max_leaves=None,\n",
       "             min_child_weight=None, missing=nan, monotone_constraints=None,\n",
       "             multi_strategy=None, n_estimators=100, n_jobs=None,\n",
       "             num_parallel_tree=None, objective=&#x27;reg:tweedie&#x27;, ...)</pre></div></div></div></div></div>"
      ],
      "text/plain": [
       "XGBRegressor(base_score=None, booster=None, callbacks=None,\n",
       "             colsample_bylevel=None, colsample_bynode=None,\n",
       "             colsample_bytree=0.7, device=None, early_stopping_rounds=None,\n",
       "             enable_categorical=False, eval_metric=None, feature_types=None,\n",
       "             gamma=None, grow_policy=None, importance_type=None,\n",
       "             interaction_constraints=None, learning_rate=0.26, max_bin=None,\n",
       "             max_cat_threshold=None, max_cat_to_onehot=None,\n",
       "             max_delta_step=None, max_depth=9, max_leaves=None,\n",
       "             min_child_weight=None, missing=nan, monotone_constraints=None,\n",
       "             multi_strategy=None, n_estimators=100, n_jobs=None,\n",
       "             num_parallel_tree=None, objective='reg:tweedie', ...)"
      ]
     },
     "execution_count": 42,
     "metadata": {},
     "output_type": "execute_result"
    }
   ],
   "source": [
    "xgb = XGBRegressor(objective='reg:tweedie', learning_rate=0.26, max_depth=9, subsample=0.7, colsample_bytree=0.7, n_estimators=100)\n",
    "xgb.fit(X_train,y_train, eval_set=[(X_test, y_test)], eval_metric='rmse', verbose=10)"
   ]
  },
  {
   "cell_type": "markdown",
   "metadata": {},
   "source": [
    "#### Plot the Feature Importance"
   ]
  },
  {
   "cell_type": "code",
   "execution_count": 29,
   "metadata": {},
   "outputs": [],
   "source": [
    "import matplotlib.pyplot as plt"
   ]
  },
  {
   "cell_type": "code",
   "execution_count": 43,
   "metadata": {},
   "outputs": [
    {
     "data": {
      "text/plain": [
       "<Axes: title={'center': 'Feature importance'}, xlabel='F score', ylabel='Features'>"
      ]
     },
     "execution_count": 43,
     "metadata": {},
     "output_type": "execute_result"
    },
    {
     "data": {
      "image/png": "[encoded data removed]",
      "text/plain": [
       "<Figure size 640x480 with 1 Axes>"
      ]
     },
     "metadata": {},
     "output_type": "display_data"
    }
   ],
   "source": [
    "plot_importance(xgb, height=0.5)"
   ]
  },
  {
   "cell_type": "markdown",
   "metadata": {},
   "source": [
    "#### Trial the observation with missing value in `sales`, `ema`, `rolling_std`, and `lag`"
   ]
  },
  {
   "cell_type": "code",
   "execution_count": 44,
   "metadata": {},
   "outputs": [],
   "source": [
    "obs = X_test.iloc[[1]]\n",
    "obs.iloc[:, 11:] = np.nan"
   ]
  },
  {
   "cell_type": "code",
   "execution_count": 45,
   "metadata": {},
   "outputs": [],
   "source": [
    "obs.loc[:, 'sales'] = 0.879433"
   ]
  },
  {
   "cell_type": "code",
   "execution_count": 46,
   "metadata": {},
   "outputs": [
    {
     "data": {
      "text/html": [
       "<div>\n",
       "<style scoped>\n",
       "    .dataframe tbody tr th:only-of-type {\n",
       "        vertical-align: middle;\n",
       "    }\n",
       "\n",
       "    .dataframe tbody tr th {\n",
       "        vertical-align: top;\n",
       "    }\n",
       "\n",
       "    .dataframe thead th {\n",
       "        text-align: right;\n",
       "    }\n",
       "</style>\n",
       "<table border=\"1\" class=\"dataframe\">\n",
       "  <thead>\n",
       "    <tr style=\"text-align: right;\">\n",
       "      <th></th>\n",
       "      <th>item_id</th>\n",
       "      <th>dept_id</th>\n",
       "      <th>cat_id</th>\n",
       "      <th>store_id</th>\n",
       "      <th>state_id</th>\n",
       "      <th>sales</th>\n",
       "      <th>sell_price</th>\n",
       "      <th>year</th>\n",
       "      <th>month</th>\n",
       "      <th>week_number</th>\n",
       "      <th>day_of_week</th>\n",
       "      <th>season_sin</th>\n",
       "      <th>season_cos</th>\n",
       "    </tr>\n",
       "  </thead>\n",
       "  <tbody>\n",
       "    <tr>\n",
       "      <th>47107051</th>\n",
       "      <td>1438</td>\n",
       "      <td>3</td>\n",
       "      <td>1</td>\n",
       "      <td>0</td>\n",
       "      <td>0</td>\n",
       "      <td>0.879433</td>\n",
       "      <td>3.97</td>\n",
       "      <td>2015</td>\n",
       "      <td>4</td>\n",
       "      <td>222</td>\n",
       "      <td>6</td>\n",
       "      <td>NaN</td>\n",
       "      <td>NaN</td>\n",
       "    </tr>\n",
       "  </tbody>\n",
       "</table>\n",
       "</div>"
      ],
      "text/plain": [
       "          item_id  dept_id  cat_id  store_id  state_id     sales  sell_price  \\\n",
       "47107051     1438        3       1         0         0  0.879433        3.97   \n",
       "\n",
       "          year  month  week_number  day_of_week  season_sin  season_cos  \n",
       "47107051  2015      4          222            6         NaN         NaN  "
      ]
     },
     "execution_count": 46,
     "metadata": {},
     "output_type": "execute_result"
    }
   ],
   "source": [
    "obs"
   ]
  },
  {
   "cell_type": "code",
   "execution_count": 47,
   "metadata": {},
   "outputs": [
    {
     "data": {
      "text/plain": [
       "array([1.1784134e-12], dtype=float32)"
      ]
     },
     "execution_count": 47,
     "metadata": {},
     "output_type": "execute_result"
    }
   ],
   "source": [
    "y_pred = xgb.predict(obs)\n",
    "y_pred"
   ]
  },
  {
   "cell_type": "code",
   "execution_count": 48,
   "metadata": {},
   "outputs": [
    {
     "data": {
      "text/html": [
       "<div>\n",
       "<style scoped>\n",
       "    .dataframe tbody tr th:only-of-type {\n",
       "        vertical-align: middle;\n",
       "    }\n",
       "\n",
       "    .dataframe tbody tr th {\n",
       "        vertical-align: top;\n",
       "    }\n",
       "\n",
       "    .dataframe thead th {\n",
       "        text-align: right;\n",
       "    }\n",
       "</style>\n",
       "<table border=\"1\" class=\"dataframe\">\n",
       "  <thead>\n",
       "    <tr style=\"text-align: right;\">\n",
       "      <th></th>\n",
       "      <th>y_test</th>\n",
       "      <th>y_pred</th>\n",
       "    </tr>\n",
       "  </thead>\n",
       "  <tbody>\n",
       "    <tr>\n",
       "      <th>47107050</th>\n",
       "      <td>0.00</td>\n",
       "      <td>1.542556e-12</td>\n",
       "    </tr>\n",
       "    <tr>\n",
       "      <th>47107051</th>\n",
       "      <td>0.00</td>\n",
       "      <td>1.188272e-12</td>\n",
       "    </tr>\n",
       "    <tr>\n",
       "      <th>47107052</th>\n",
       "      <td>0.00</td>\n",
       "      <td>5.762473e-13</td>\n",
       "    </tr>\n",
       "    <tr>\n",
       "      <th>47107053</th>\n",
       "      <td>18.56</td>\n",
       "      <td>2.082002e+01</td>\n",
       "    </tr>\n",
       "    <tr>\n",
       "      <th>47107054</th>\n",
       "      <td>8.64</td>\n",
       "      <td>8.631824e+00</td>\n",
       "    </tr>\n",
       "    <tr>\n",
       "      <th>...</th>\n",
       "      <td>...</td>\n",
       "      <td>...</td>\n",
       "    </tr>\n",
       "    <tr>\n",
       "      <th>59275604</th>\n",
       "      <td>5.96</td>\n",
       "      <td>7.675947e+00</td>\n",
       "    </tr>\n",
       "    <tr>\n",
       "      <th>59275605</th>\n",
       "      <td>0.00</td>\n",
       "      <td>1.208920e-12</td>\n",
       "    </tr>\n",
       "    <tr>\n",
       "      <th>59275606</th>\n",
       "      <td>3.98</td>\n",
       "      <td>4.315636e+00</td>\n",
       "    </tr>\n",
       "    <tr>\n",
       "      <th>59275607</th>\n",
       "      <td>1.28</td>\n",
       "      <td>1.153275e+00</td>\n",
       "    </tr>\n",
       "    <tr>\n",
       "      <th>59275608</th>\n",
       "      <td>5.00</td>\n",
       "      <td>4.686122e+00</td>\n",
       "    </tr>\n",
       "  </tbody>\n",
       "</table>\n",
       "<p>1219600 rows × 2 columns</p>\n",
       "</div>"
      ],
      "text/plain": [
       "          y_test        y_pred\n",
       "47107050    0.00  1.542556e-12\n",
       "47107051    0.00  1.188272e-12\n",
       "47107052    0.00  5.762473e-13\n",
       "47107053   18.56  2.082002e+01\n",
       "47107054    8.64  8.631824e+00\n",
       "...          ...           ...\n",
       "59275604    5.96  7.675947e+00\n",
       "59275605    0.00  1.208920e-12\n",
       "59275606    3.98  4.315636e+00\n",
       "59275607    1.28  1.153275e+00\n",
       "59275608    5.00  4.686122e+00\n",
       "\n",
       "[1219600 rows x 2 columns]"
      ]
     },
     "execution_count": 48,
     "metadata": {},
     "output_type": "execute_result"
    }
   ],
   "source": [
    "y_pred = xgb.predict(X_test)\n",
    "\n",
    "predicted_total_sales = pd.DataFrame({'y_test': y_test, 'y_pred': y_pred})\n",
    "predicted_total_sales"
   ]
  }
 ],
 "metadata": {
  "kernelspec": {
   "display_name": ".venv",
   "language": "python",
   "name": "python3"
  },
  "language_info": {
   "codemirror_mode": {
    "name": "ipython",
    "version": 3
   },
   "file_extension": ".py",
   "mimetype": "text/x-python",
   "name": "python",
   "nbconvert_exporter": "python",
   "pygments_lexer": "ipython3",
   "version": "3.9.13"
  }
 },
 "nbformat": 4,
 "nbformat_minor": 2
}
