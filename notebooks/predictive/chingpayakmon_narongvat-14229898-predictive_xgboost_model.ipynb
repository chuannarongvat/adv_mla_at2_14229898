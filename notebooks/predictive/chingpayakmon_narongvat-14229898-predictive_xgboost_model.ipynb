{
 "cells": [
  {
   "cell_type": "code",
   "execution_count": 1,
   "metadata": {},
   "outputs": [],
   "source": [
    "%load_ext autoreload\n",
    "%autoreload 2"
   ]
  },
  {
   "cell_type": "markdown",
   "metadata": {},
   "source": [
    "## Predictive: XGBoost Regressor Model"
   ]
  },
  {
   "cell_type": "code",
   "execution_count": 2,
   "metadata": {},
   "outputs": [],
   "source": [
    "import pandas as pd\n",
    "import numpy as np"
   ]
  },
  {
   "cell_type": "code",
   "execution_count": 3,
   "metadata": {},
   "outputs": [],
   "source": [
    "pd.set_option('display.max_columns', None)"
   ]
  },
  {
   "cell_type": "code",
   "execution_count": 4,
   "metadata": {},
   "outputs": [],
   "source": [
    "import sys\n",
    "sys.path.insert(0, '../../src')"
   ]
  },
  {
   "cell_type": "code",
   "execution_count": 7,
   "metadata": {},
   "outputs": [],
   "source": [
    "sales_train = pd.read_parquet('../../data/interim/predictive_sales_train.to_parquet')"
   ]
  },
  {
   "cell_type": "code",
   "execution_count": 8,
   "metadata": {},
   "outputs": [],
   "source": [
    "from features.data_prep import preprocess"
   ]
  },
  {
   "cell_type": "code",
   "execution_count": 9,
   "metadata": {},
   "outputs": [],
   "source": [
    "df_train, item_id_encoder, dept_id_encoder, store_id_encoder, state_id_encoder, cat_id_encoder = preprocess(sales_train.copy())"
   ]
  },
  {
   "cell_type": "markdown",
   "metadata": {},
   "source": [
    "### Save the `encoder` in the `models/predictive` folder."
   ]
  },
  {
   "cell_type": "code",
   "execution_count": 10,
   "metadata": {},
   "outputs": [
    {
     "data": {
      "text/plain": [
       "['../../models/predictive/cat_id_encoder.joblib']"
      ]
     },
     "execution_count": 10,
     "metadata": {},
     "output_type": "execute_result"
    }
   ],
   "source": [
    "from joblib import dump\n",
    "\n",
    "dump(item_id_encoder, '../../models/predictive/item_id_encoder.joblib')\n",
    "dump(dept_id_encoder, '../../models/predictive/dept_id_encoder.joblib')\n",
    "dump(store_id_encoder, '../../models/predictive/store_id_encoder.joblib')\n",
    "dump(state_id_encoder, '../../models/predictive/state_id_encoder.joblib')\n",
    "dump(cat_id_encoder, '../../models/predictive/cat_id_encoder.joblib')"
   ]
  },
  {
   "cell_type": "code",
   "execution_count": 11,
   "metadata": {},
   "outputs": [],
   "source": [
    "del sales_train"
   ]
  },
  {
   "cell_type": "code",
   "execution_count": 12,
   "metadata": {},
   "outputs": [
    {
     "data": {
      "text/html": [
       "<div>\n",
       "<style scoped>\n",
       "    .dataframe tbody tr th:only-of-type {\n",
       "        vertical-align: middle;\n",
       "    }\n",
       "\n",
       "    .dataframe tbody tr th {\n",
       "        vertical-align: top;\n",
       "    }\n",
       "\n",
       "    .dataframe thead th {\n",
       "        text-align: right;\n",
       "    }\n",
       "</style>\n",
       "<table border=\"1\" class=\"dataframe\">\n",
       "  <thead>\n",
       "    <tr style=\"text-align: right;\">\n",
       "      <th></th>\n",
       "      <th>item_id</th>\n",
       "      <th>dept_id</th>\n",
       "      <th>cat_id</th>\n",
       "      <th>store_id</th>\n",
       "      <th>state_id</th>\n",
       "      <th>sales</th>\n",
       "      <th>sell_price</th>\n",
       "      <th>year</th>\n",
       "      <th>month</th>\n",
       "      <th>week_number</th>\n",
       "      <th>day_of_week</th>\n",
       "      <th>season_sin</th>\n",
       "      <th>season_cos</th>\n",
       "    </tr>\n",
       "  </thead>\n",
       "  <tbody>\n",
       "    <tr>\n",
       "      <th>0</th>\n",
       "      <td>1437</td>\n",
       "      <td>3</td>\n",
       "      <td>1</td>\n",
       "      <td>0</td>\n",
       "      <td>0</td>\n",
       "      <td>0</td>\n",
       "      <td>8.296590</td>\n",
       "      <td>2011</td>\n",
       "      <td>1</td>\n",
       "      <td>1</td>\n",
       "      <td>5</td>\n",
       "      <td>0.500000</td>\n",
       "      <td>0.866025</td>\n",
       "    </tr>\n",
       "    <tr>\n",
       "      <th>1</th>\n",
       "      <td>1438</td>\n",
       "      <td>3</td>\n",
       "      <td>1</td>\n",
       "      <td>0</td>\n",
       "      <td>0</td>\n",
       "      <td>0</td>\n",
       "      <td>3.967419</td>\n",
       "      <td>2011</td>\n",
       "      <td>1</td>\n",
       "      <td>1</td>\n",
       "      <td>5</td>\n",
       "      <td>0.500000</td>\n",
       "      <td>0.866025</td>\n",
       "    </tr>\n",
       "    <tr>\n",
       "      <th>2</th>\n",
       "      <td>1439</td>\n",
       "      <td>3</td>\n",
       "      <td>1</td>\n",
       "      <td>0</td>\n",
       "      <td>0</td>\n",
       "      <td>0</td>\n",
       "      <td>2.965568</td>\n",
       "      <td>2011</td>\n",
       "      <td>1</td>\n",
       "      <td>1</td>\n",
       "      <td>5</td>\n",
       "      <td>0.500000</td>\n",
       "      <td>0.866025</td>\n",
       "    </tr>\n",
       "    <tr>\n",
       "      <th>3</th>\n",
       "      <td>1440</td>\n",
       "      <td>3</td>\n",
       "      <td>1</td>\n",
       "      <td>0</td>\n",
       "      <td>0</td>\n",
       "      <td>0</td>\n",
       "      <td>4.500594</td>\n",
       "      <td>2011</td>\n",
       "      <td>1</td>\n",
       "      <td>1</td>\n",
       "      <td>5</td>\n",
       "      <td>0.500000</td>\n",
       "      <td>0.866025</td>\n",
       "    </tr>\n",
       "    <tr>\n",
       "      <th>4</th>\n",
       "      <td>1441</td>\n",
       "      <td>3</td>\n",
       "      <td>1</td>\n",
       "      <td>0</td>\n",
       "      <td>0</td>\n",
       "      <td>0</td>\n",
       "      <td>2.881908</td>\n",
       "      <td>2011</td>\n",
       "      <td>1</td>\n",
       "      <td>1</td>\n",
       "      <td>5</td>\n",
       "      <td>0.500000</td>\n",
       "      <td>0.866025</td>\n",
       "    </tr>\n",
       "    <tr>\n",
       "      <th>...</th>\n",
       "      <td>...</td>\n",
       "      <td>...</td>\n",
       "      <td>...</td>\n",
       "      <td>...</td>\n",
       "      <td>...</td>\n",
       "      <td>...</td>\n",
       "      <td>...</td>\n",
       "      <td>...</td>\n",
       "      <td>...</td>\n",
       "      <td>...</td>\n",
       "      <td>...</td>\n",
       "      <td>...</td>\n",
       "      <td>...</td>\n",
       "    </tr>\n",
       "    <tr>\n",
       "      <th>47107045</th>\n",
       "      <td>1432</td>\n",
       "      <td>2</td>\n",
       "      <td>0</td>\n",
       "      <td>9</td>\n",
       "      <td>2</td>\n",
       "      <td>2</td>\n",
       "      <td>2.880000</td>\n",
       "      <td>2015</td>\n",
       "      <td>4</td>\n",
       "      <td>221</td>\n",
       "      <td>5</td>\n",
       "      <td>0.866025</td>\n",
       "      <td>-0.500000</td>\n",
       "    </tr>\n",
       "    <tr>\n",
       "      <th>47107046</th>\n",
       "      <td>1433</td>\n",
       "      <td>2</td>\n",
       "      <td>0</td>\n",
       "      <td>9</td>\n",
       "      <td>2</td>\n",
       "      <td>0</td>\n",
       "      <td>2.000000</td>\n",
       "      <td>2015</td>\n",
       "      <td>4</td>\n",
       "      <td>221</td>\n",
       "      <td>5</td>\n",
       "      <td>0.866025</td>\n",
       "      <td>-0.500000</td>\n",
       "    </tr>\n",
       "    <tr>\n",
       "      <th>47107047</th>\n",
       "      <td>1434</td>\n",
       "      <td>2</td>\n",
       "      <td>0</td>\n",
       "      <td>9</td>\n",
       "      <td>2</td>\n",
       "      <td>0</td>\n",
       "      <td>3.980000</td>\n",
       "      <td>2015</td>\n",
       "      <td>4</td>\n",
       "      <td>221</td>\n",
       "      <td>5</td>\n",
       "      <td>0.866025</td>\n",
       "      <td>-0.500000</td>\n",
       "    </tr>\n",
       "    <tr>\n",
       "      <th>47107048</th>\n",
       "      <td>1435</td>\n",
       "      <td>2</td>\n",
       "      <td>0</td>\n",
       "      <td>9</td>\n",
       "      <td>2</td>\n",
       "      <td>0</td>\n",
       "      <td>1.280000</td>\n",
       "      <td>2015</td>\n",
       "      <td>4</td>\n",
       "      <td>221</td>\n",
       "      <td>5</td>\n",
       "      <td>0.866025</td>\n",
       "      <td>-0.500000</td>\n",
       "    </tr>\n",
       "    <tr>\n",
       "      <th>47107049</th>\n",
       "      <td>1436</td>\n",
       "      <td>2</td>\n",
       "      <td>0</td>\n",
       "      <td>9</td>\n",
       "      <td>2</td>\n",
       "      <td>3</td>\n",
       "      <td>1.000000</td>\n",
       "      <td>2015</td>\n",
       "      <td>4</td>\n",
       "      <td>221</td>\n",
       "      <td>5</td>\n",
       "      <td>0.866025</td>\n",
       "      <td>-0.500000</td>\n",
       "    </tr>\n",
       "  </tbody>\n",
       "</table>\n",
       "<p>47107050 rows × 13 columns</p>\n",
       "</div>"
      ],
      "text/plain": [
       "          item_id  dept_id  cat_id  store_id  state_id  sales  sell_price   \n",
       "0            1437        3       1         0         0      0    8.296590  \\\n",
       "1            1438        3       1         0         0      0    3.967419   \n",
       "2            1439        3       1         0         0      0    2.965568   \n",
       "3            1440        3       1         0         0      0    4.500594   \n",
       "4            1441        3       1         0         0      0    2.881908   \n",
       "...           ...      ...     ...       ...       ...    ...         ...   \n",
       "47107045     1432        2       0         9         2      2    2.880000   \n",
       "47107046     1433        2       0         9         2      0    2.000000   \n",
       "47107047     1434        2       0         9         2      0    3.980000   \n",
       "47107048     1435        2       0         9         2      0    1.280000   \n",
       "47107049     1436        2       0         9         2      3    1.000000   \n",
       "\n",
       "          year  month  week_number  day_of_week  season_sin  season_cos  \n",
       "0         2011      1            1            5    0.500000    0.866025  \n",
       "1         2011      1            1            5    0.500000    0.866025  \n",
       "2         2011      1            1            5    0.500000    0.866025  \n",
       "3         2011      1            1            5    0.500000    0.866025  \n",
       "4         2011      1            1            5    0.500000    0.866025  \n",
       "...        ...    ...          ...          ...         ...         ...  \n",
       "47107045  2015      4          221            5    0.866025   -0.500000  \n",
       "47107046  2015      4          221            5    0.866025   -0.500000  \n",
       "47107047  2015      4          221            5    0.866025   -0.500000  \n",
       "47107048  2015      4          221            5    0.866025   -0.500000  \n",
       "47107049  2015      4          221            5    0.866025   -0.500000  \n",
       "\n",
       "[47107050 rows x 13 columns]"
      ]
     },
     "execution_count": 12,
     "metadata": {},
     "output_type": "execute_result"
    }
   ],
   "source": [
    "df_train"
   ]
  },
  {
   "cell_type": "code",
   "execution_count": 13,
   "metadata": {},
   "outputs": [],
   "source": [
    "sales_test = pd.read_parquet('../../data/interim/predictive_sales_test.to_parquet')"
   ]
  },
  {
   "cell_type": "code",
   "execution_count": 14,
   "metadata": {},
   "outputs": [],
   "source": [
    "df_test = preprocess(sales_test.copy())[0]"
   ]
  },
  {
   "cell_type": "code",
   "execution_count": 15,
   "metadata": {},
   "outputs": [],
   "source": [
    "del sales_test"
   ]
  },
  {
   "cell_type": "code",
   "execution_count": 16,
   "metadata": {},
   "outputs": [
    {
     "data": {
      "text/html": [
       "<div>\n",
       "<style scoped>\n",
       "    .dataframe tbody tr th:only-of-type {\n",
       "        vertical-align: middle;\n",
       "    }\n",
       "\n",
       "    .dataframe tbody tr th {\n",
       "        vertical-align: top;\n",
       "    }\n",
       "\n",
       "    .dataframe thead th {\n",
       "        text-align: right;\n",
       "    }\n",
       "</style>\n",
       "<table border=\"1\" class=\"dataframe\">\n",
       "  <thead>\n",
       "    <tr style=\"text-align: right;\">\n",
       "      <th></th>\n",
       "      <th>item_id</th>\n",
       "      <th>dept_id</th>\n",
       "      <th>cat_id</th>\n",
       "      <th>store_id</th>\n",
       "      <th>state_id</th>\n",
       "      <th>sales</th>\n",
       "      <th>sell_price</th>\n",
       "      <th>year</th>\n",
       "      <th>month</th>\n",
       "      <th>week_number</th>\n",
       "      <th>day_of_week</th>\n",
       "      <th>season_sin</th>\n",
       "      <th>season_cos</th>\n",
       "    </tr>\n",
       "  </thead>\n",
       "  <tbody>\n",
       "    <tr>\n",
       "      <th>47107050</th>\n",
       "      <td>1437</td>\n",
       "      <td>3</td>\n",
       "      <td>1</td>\n",
       "      <td>0</td>\n",
       "      <td>0</td>\n",
       "      <td>0</td>\n",
       "      <td>8.26</td>\n",
       "      <td>2015</td>\n",
       "      <td>4</td>\n",
       "      <td>222</td>\n",
       "      <td>6</td>\n",
       "      <td>0.866025</td>\n",
       "      <td>-0.500000</td>\n",
       "    </tr>\n",
       "    <tr>\n",
       "      <th>47107051</th>\n",
       "      <td>1438</td>\n",
       "      <td>3</td>\n",
       "      <td>1</td>\n",
       "      <td>0</td>\n",
       "      <td>0</td>\n",
       "      <td>0</td>\n",
       "      <td>3.97</td>\n",
       "      <td>2015</td>\n",
       "      <td>4</td>\n",
       "      <td>222</td>\n",
       "      <td>6</td>\n",
       "      <td>0.866025</td>\n",
       "      <td>-0.500000</td>\n",
       "    </tr>\n",
       "    <tr>\n",
       "      <th>47107052</th>\n",
       "      <td>1439</td>\n",
       "      <td>3</td>\n",
       "      <td>1</td>\n",
       "      <td>0</td>\n",
       "      <td>0</td>\n",
       "      <td>0</td>\n",
       "      <td>2.97</td>\n",
       "      <td>2015</td>\n",
       "      <td>4</td>\n",
       "      <td>222</td>\n",
       "      <td>6</td>\n",
       "      <td>0.866025</td>\n",
       "      <td>-0.500000</td>\n",
       "    </tr>\n",
       "    <tr>\n",
       "      <th>47107053</th>\n",
       "      <td>1440</td>\n",
       "      <td>3</td>\n",
       "      <td>1</td>\n",
       "      <td>0</td>\n",
       "      <td>0</td>\n",
       "      <td>4</td>\n",
       "      <td>4.64</td>\n",
       "      <td>2015</td>\n",
       "      <td>4</td>\n",
       "      <td>222</td>\n",
       "      <td>6</td>\n",
       "      <td>0.866025</td>\n",
       "      <td>-0.500000</td>\n",
       "    </tr>\n",
       "    <tr>\n",
       "      <th>47107054</th>\n",
       "      <td>1441</td>\n",
       "      <td>3</td>\n",
       "      <td>1</td>\n",
       "      <td>0</td>\n",
       "      <td>0</td>\n",
       "      <td>3</td>\n",
       "      <td>2.88</td>\n",
       "      <td>2015</td>\n",
       "      <td>4</td>\n",
       "      <td>222</td>\n",
       "      <td>6</td>\n",
       "      <td>0.866025</td>\n",
       "      <td>-0.500000</td>\n",
       "    </tr>\n",
       "    <tr>\n",
       "      <th>...</th>\n",
       "      <td>...</td>\n",
       "      <td>...</td>\n",
       "      <td>...</td>\n",
       "      <td>...</td>\n",
       "      <td>...</td>\n",
       "      <td>...</td>\n",
       "      <td>...</td>\n",
       "      <td>...</td>\n",
       "      <td>...</td>\n",
       "      <td>...</td>\n",
       "      <td>...</td>\n",
       "      <td>...</td>\n",
       "      <td>...</td>\n",
       "    </tr>\n",
       "    <tr>\n",
       "      <th>59303045</th>\n",
       "      <td>1432</td>\n",
       "      <td>2</td>\n",
       "      <td>0</td>\n",
       "      <td>9</td>\n",
       "      <td>2</td>\n",
       "      <td>1</td>\n",
       "      <td>2.98</td>\n",
       "      <td>2016</td>\n",
       "      <td>5</td>\n",
       "      <td>279</td>\n",
       "      <td>6</td>\n",
       "      <td>0.500000</td>\n",
       "      <td>-0.866025</td>\n",
       "    </tr>\n",
       "    <tr>\n",
       "      <th>59303046</th>\n",
       "      <td>1433</td>\n",
       "      <td>2</td>\n",
       "      <td>0</td>\n",
       "      <td>9</td>\n",
       "      <td>2</td>\n",
       "      <td>0</td>\n",
       "      <td>2.48</td>\n",
       "      <td>2016</td>\n",
       "      <td>5</td>\n",
       "      <td>279</td>\n",
       "      <td>6</td>\n",
       "      <td>0.500000</td>\n",
       "      <td>-0.866025</td>\n",
       "    </tr>\n",
       "    <tr>\n",
       "      <th>59303047</th>\n",
       "      <td>1434</td>\n",
       "      <td>2</td>\n",
       "      <td>0</td>\n",
       "      <td>9</td>\n",
       "      <td>2</td>\n",
       "      <td>2</td>\n",
       "      <td>3.98</td>\n",
       "      <td>2016</td>\n",
       "      <td>5</td>\n",
       "      <td>279</td>\n",
       "      <td>6</td>\n",
       "      <td>0.500000</td>\n",
       "      <td>-0.866025</td>\n",
       "    </tr>\n",
       "    <tr>\n",
       "      <th>59303048</th>\n",
       "      <td>1435</td>\n",
       "      <td>2</td>\n",
       "      <td>0</td>\n",
       "      <td>9</td>\n",
       "      <td>2</td>\n",
       "      <td>0</td>\n",
       "      <td>1.28</td>\n",
       "      <td>2016</td>\n",
       "      <td>5</td>\n",
       "      <td>279</td>\n",
       "      <td>6</td>\n",
       "      <td>0.500000</td>\n",
       "      <td>-0.866025</td>\n",
       "    </tr>\n",
       "    <tr>\n",
       "      <th>59303049</th>\n",
       "      <td>1436</td>\n",
       "      <td>2</td>\n",
       "      <td>0</td>\n",
       "      <td>9</td>\n",
       "      <td>2</td>\n",
       "      <td>1</td>\n",
       "      <td>1.00</td>\n",
       "      <td>2016</td>\n",
       "      <td>5</td>\n",
       "      <td>279</td>\n",
       "      <td>6</td>\n",
       "      <td>0.500000</td>\n",
       "      <td>-0.866025</td>\n",
       "    </tr>\n",
       "  </tbody>\n",
       "</table>\n",
       "<p>12196000 rows × 13 columns</p>\n",
       "</div>"
      ],
      "text/plain": [
       "          item_id  dept_id  cat_id  store_id  state_id  sales  sell_price   \n",
       "47107050     1437        3       1         0         0      0        8.26  \\\n",
       "47107051     1438        3       1         0         0      0        3.97   \n",
       "47107052     1439        3       1         0         0      0        2.97   \n",
       "47107053     1440        3       1         0         0      4        4.64   \n",
       "47107054     1441        3       1         0         0      3        2.88   \n",
       "...           ...      ...     ...       ...       ...    ...         ...   \n",
       "59303045     1432        2       0         9         2      1        2.98   \n",
       "59303046     1433        2       0         9         2      0        2.48   \n",
       "59303047     1434        2       0         9         2      2        3.98   \n",
       "59303048     1435        2       0         9         2      0        1.28   \n",
       "59303049     1436        2       0         9         2      1        1.00   \n",
       "\n",
       "          year  month  week_number  day_of_week  season_sin  season_cos  \n",
       "47107050  2015      4          222            6    0.866025   -0.500000  \n",
       "47107051  2015      4          222            6    0.866025   -0.500000  \n",
       "47107052  2015      4          222            6    0.866025   -0.500000  \n",
       "47107053  2015      4          222            6    0.866025   -0.500000  \n",
       "47107054  2015      4          222            6    0.866025   -0.500000  \n",
       "...        ...    ...          ...          ...         ...         ...  \n",
       "59303045  2016      5          279            6    0.500000   -0.866025  \n",
       "59303046  2016      5          279            6    0.500000   -0.866025  \n",
       "59303047  2016      5          279            6    0.500000   -0.866025  \n",
       "59303048  2016      5          279            6    0.500000   -0.866025  \n",
       "59303049  2016      5          279            6    0.500000   -0.866025  \n",
       "\n",
       "[12196000 rows x 13 columns]"
      ]
     },
     "execution_count": 16,
     "metadata": {},
     "output_type": "execute_result"
    }
   ],
   "source": [
    "df_test"
   ]
  },
  {
   "cell_type": "markdown",
   "metadata": {},
   "source": [
    "#### Save the `df_train` and `df_test` to `data/processed`"
   ]
  },
  {
   "cell_type": "code",
   "execution_count": 17,
   "metadata": {},
   "outputs": [],
   "source": [
    "df_train.to_parquet('../../data/processed/predictive_df_train.to_parquet')\n",
    "df_test.to_parquet('../../data/processed/predictive_df_test.to_parquet')"
   ]
  },
  {
   "cell_type": "markdown",
   "metadata": {},
   "source": [
    "#### Load the `extract_features_target` function"
   ]
  },
  {
   "cell_type": "code",
   "execution_count": 18,
   "metadata": {},
   "outputs": [],
   "source": [
    "from features.data_prep import extract_features_target"
   ]
  },
  {
   "cell_type": "code",
   "execution_count": 19,
   "metadata": {},
   "outputs": [],
   "source": [
    "X_train, X_test, y_train, y_test = extract_features_target(df_train, df_test, 'sales')"
   ]
  },
  {
   "cell_type": "code",
   "execution_count": 20,
   "metadata": {},
   "outputs": [],
   "source": [
    "del df_train, df_test"
   ]
  },
  {
   "cell_type": "code",
   "execution_count": 21,
   "metadata": {},
   "outputs": [
    {
     "name": "stdout",
     "output_type": "stream",
     "text": [
      "(47107050, 12)\n",
      "(47107050,)\n",
      "(12196000, 12)\n",
      "(12196000,)\n"
     ]
    }
   ],
   "source": [
    "print(X_train.shape)\n",
    "print(y_train.shape)\n",
    "print(X_test.shape)\n",
    "print(y_test.shape)"
   ]
  },
  {
   "cell_type": "markdown",
   "metadata": {},
   "source": [
    "#### Import the XGBRegressor and mean_square_error "
   ]
  },
  {
   "cell_type": "code",
   "execution_count": 23,
   "metadata": {},
   "outputs": [],
   "source": [
    "from xgboost import XGBRegressor, plot_importance\n",
    "from sklearn.metrics import mean_squared_error"
   ]
  },
  {
   "cell_type": "code",
   "execution_count": 24,
   "metadata": {},
   "outputs": [],
   "source": [
    "xgb = XGBRegressor(objective='reg:tweedie', learning_rate=0.31, max_depth=9, subsample=0.7, colsample_bytree=0.7, n_estimators=100)"
   ]
  },
  {
   "cell_type": "code",
   "execution_count": 25,
   "metadata": {},
   "outputs": [],
   "source": [
    "xgb_model = xgb.fit(X_train, y_train)"
   ]
  },
  {
   "cell_type": "markdown",
   "metadata": {},
   "source": [
    "#### Save the `xgb_model` in `modeles/predictive`"
   ]
  },
  {
   "cell_type": "code",
   "execution_count": 26,
   "metadata": {},
   "outputs": [
    {
     "data": {
      "text/plain": [
       "['../../models/predictive/xgb_model.joblib']"
      ]
     },
     "execution_count": 26,
     "metadata": {},
     "output_type": "execute_result"
    }
   ],
   "source": [
    "dump(xgb_model, '../../models/predictive/xgb_model.joblib')"
   ]
  },
  {
   "cell_type": "code",
   "execution_count": 27,
   "metadata": {},
   "outputs": [],
   "source": [
    "y_pred = xgb_model.predict(X_test)"
   ]
  },
  {
   "cell_type": "code",
   "execution_count": 28,
   "metadata": {},
   "outputs": [
    {
     "data": {
      "text/plain": [
       "<Axes: title={'center': 'Feature importance'}, xlabel='F score', ylabel='Features'>"
      ]
     },
     "execution_count": 28,
     "metadata": {},
     "output_type": "execute_result"
    },
    {
     "data": {
      "image/png": "[encoded data removed]",
      "text/plain": [
       "<Figure size 640x480 with 1 Axes>"
      ]
     },
     "metadata": {},
     "output_type": "display_data"
    }
   ],
   "source": [
    "plot_importance(xgb_model, height=0.5)"
   ]
  },
  {
   "cell_type": "code",
   "execution_count": 29,
   "metadata": {},
   "outputs": [
    {
     "data": {
      "text/html": [
       "<div>\n",
       "<style scoped>\n",
       "    .dataframe tbody tr th:only-of-type {\n",
       "        vertical-align: middle;\n",
       "    }\n",
       "\n",
       "    .dataframe tbody tr th {\n",
       "        vertical-align: top;\n",
       "    }\n",
       "\n",
       "    .dataframe thead th {\n",
       "        text-align: right;\n",
       "    }\n",
       "</style>\n",
       "<table border=\"1\" class=\"dataframe\">\n",
       "  <thead>\n",
       "    <tr style=\"text-align: right;\">\n",
       "      <th></th>\n",
       "      <th>y_test</th>\n",
       "      <th>y_pred</th>\n",
       "    </tr>\n",
       "  </thead>\n",
       "  <tbody>\n",
       "    <tr>\n",
       "      <th>47107050</th>\n",
       "      <td>0</td>\n",
       "      <td>0.574024</td>\n",
       "    </tr>\n",
       "    <tr>\n",
       "      <th>47107051</th>\n",
       "      <td>0</td>\n",
       "      <td>0.923057</td>\n",
       "    </tr>\n",
       "    <tr>\n",
       "      <th>47107052</th>\n",
       "      <td>0</td>\n",
       "      <td>0.164507</td>\n",
       "    </tr>\n",
       "    <tr>\n",
       "      <th>47107053</th>\n",
       "      <td>4</td>\n",
       "      <td>2.673545</td>\n",
       "    </tr>\n",
       "    <tr>\n",
       "      <th>47107054</th>\n",
       "      <td>3</td>\n",
       "      <td>0.989998</td>\n",
       "    </tr>\n",
       "    <tr>\n",
       "      <th>...</th>\n",
       "      <td>...</td>\n",
       "      <td>...</td>\n",
       "    </tr>\n",
       "    <tr>\n",
       "      <th>59303045</th>\n",
       "      <td>1</td>\n",
       "      <td>1.293452</td>\n",
       "    </tr>\n",
       "    <tr>\n",
       "      <th>59303046</th>\n",
       "      <td>0</td>\n",
       "      <td>1.361450</td>\n",
       "    </tr>\n",
       "    <tr>\n",
       "      <th>59303047</th>\n",
       "      <td>2</td>\n",
       "      <td>1.184664</td>\n",
       "    </tr>\n",
       "    <tr>\n",
       "      <th>59303048</th>\n",
       "      <td>0</td>\n",
       "      <td>0.775054</td>\n",
       "    </tr>\n",
       "    <tr>\n",
       "      <th>59303049</th>\n",
       "      <td>1</td>\n",
       "      <td>0.961076</td>\n",
       "    </tr>\n",
       "  </tbody>\n",
       "</table>\n",
       "<p>12196000 rows × 2 columns</p>\n",
       "</div>"
      ],
      "text/plain": [
       "          y_test    y_pred\n",
       "47107050       0  0.574024\n",
       "47107051       0  0.923057\n",
       "47107052       0  0.164507\n",
       "47107053       4  2.673545\n",
       "47107054       3  0.989998\n",
       "...          ...       ...\n",
       "59303045       1  1.293452\n",
       "59303046       0  1.361450\n",
       "59303047       2  1.184664\n",
       "59303048       0  0.775054\n",
       "59303049       1  0.961076\n",
       "\n",
       "[12196000 rows x 2 columns]"
      ]
     },
     "execution_count": 29,
     "metadata": {},
     "output_type": "execute_result"
    }
   ],
   "source": [
    "predicted_sales = pd.DataFrame({'y_test': y_test, 'y_pred': y_pred})\n",
    "predicted_sales"
   ]
  },
  {
   "cell_type": "code",
   "execution_count": 30,
   "metadata": {},
   "outputs": [
    {
     "data": {
      "text/html": [
       "<div>\n",
       "<style scoped>\n",
       "    .dataframe tbody tr th:only-of-type {\n",
       "        vertical-align: middle;\n",
       "    }\n",
       "\n",
       "    .dataframe tbody tr th {\n",
       "        vertical-align: top;\n",
       "    }\n",
       "\n",
       "    .dataframe thead th {\n",
       "        text-align: right;\n",
       "    }\n",
       "</style>\n",
       "<table border=\"1\" class=\"dataframe\">\n",
       "  <thead>\n",
       "    <tr style=\"text-align: right;\">\n",
       "      <th></th>\n",
       "      <th>y_test</th>\n",
       "      <th>y_pred</th>\n",
       "    </tr>\n",
       "  </thead>\n",
       "  <tbody>\n",
       "    <tr>\n",
       "      <th>47107050</th>\n",
       "      <td>0.00</td>\n",
       "      <td>4.741435</td>\n",
       "    </tr>\n",
       "    <tr>\n",
       "      <th>47107051</th>\n",
       "      <td>0.00</td>\n",
       "      <td>3.664534</td>\n",
       "    </tr>\n",
       "    <tr>\n",
       "      <th>47107052</th>\n",
       "      <td>0.00</td>\n",
       "      <td>0.488586</td>\n",
       "    </tr>\n",
       "    <tr>\n",
       "      <th>47107053</th>\n",
       "      <td>18.56</td>\n",
       "      <td>12.405250</td>\n",
       "    </tr>\n",
       "    <tr>\n",
       "      <th>47107054</th>\n",
       "      <td>8.64</td>\n",
       "      <td>2.851195</td>\n",
       "    </tr>\n",
       "    <tr>\n",
       "      <th>...</th>\n",
       "      <td>...</td>\n",
       "      <td>...</td>\n",
       "    </tr>\n",
       "    <tr>\n",
       "      <th>59303045</th>\n",
       "      <td>2.98</td>\n",
       "      <td>3.854488</td>\n",
       "    </tr>\n",
       "    <tr>\n",
       "      <th>59303046</th>\n",
       "      <td>0.00</td>\n",
       "      <td>3.376396</td>\n",
       "    </tr>\n",
       "    <tr>\n",
       "      <th>59303047</th>\n",
       "      <td>7.96</td>\n",
       "      <td>4.714962</td>\n",
       "    </tr>\n",
       "    <tr>\n",
       "      <th>59303048</th>\n",
       "      <td>0.00</td>\n",
       "      <td>0.992069</td>\n",
       "    </tr>\n",
       "    <tr>\n",
       "      <th>59303049</th>\n",
       "      <td>1.00</td>\n",
       "      <td>0.961076</td>\n",
       "    </tr>\n",
       "  </tbody>\n",
       "</table>\n",
       "<p>12196000 rows × 2 columns</p>\n",
       "</div>"
      ],
      "text/plain": [
       "          y_test     y_pred\n",
       "47107050    0.00   4.741435\n",
       "47107051    0.00   3.664534\n",
       "47107052    0.00   0.488586\n",
       "47107053   18.56  12.405250\n",
       "47107054    8.64   2.851195\n",
       "...          ...        ...\n",
       "59303045    2.98   3.854488\n",
       "59303046    0.00   3.376396\n",
       "59303047    7.96   4.714962\n",
       "59303048    0.00   0.992069\n",
       "59303049    1.00   0.961076\n",
       "\n",
       "[12196000 rows x 2 columns]"
      ]
     },
     "execution_count": 30,
     "metadata": {},
     "output_type": "execute_result"
    }
   ],
   "source": [
    "predicted_revenue = pd.DataFrame({'y_test': X_test['sell_price'] * y_test, 'y_pred': X_test['sell_price'] * y_pred})\n",
    "predicted_revenue"
   ]
  },
  {
   "cell_type": "code",
   "execution_count": 31,
   "metadata": {},
   "outputs": [
    {
     "name": "stdout",
     "output_type": "stream",
     "text": [
      "10.077022235907851\n"
     ]
    }
   ],
   "source": [
    "rmse = mean_squared_error(predicted_revenue['y_test'], predicted_revenue['y_pred'], squared=False)\n",
    "print(rmse)"
   ]
  }
 ],
 "metadata": {
  "kernelspec": {
   "display_name": ".venv",
   "language": "python",
   "name": "python3"
  },
  "language_info": {
   "codemirror_mode": {
    "name": "ipython",
    "version": 3
   },
   "file_extension": ".py",
   "mimetype": "text/x-python",
   "name": "python",
   "nbconvert_exporter": "python",
   "pygments_lexer": "ipython3",
   "version": "3.9.13"
  }
 },
 "nbformat": 4,
 "nbformat_minor": 2
}
